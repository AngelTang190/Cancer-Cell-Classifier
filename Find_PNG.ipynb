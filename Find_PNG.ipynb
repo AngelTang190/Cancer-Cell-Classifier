{
 "cells": [
  {
   "cell_type": "markdown",
   "metadata": {},
   "source": [
    "## Data Collection\n",
    "fdsfdsfs"
   ]
  },
  {
   "cell_type": "code",
   "execution_count": 5,
   "metadata": {},
   "outputs": [
    {
     "name": "stdout",
     "output_type": "stream",
     "text": [
      "Path file: C:\\Users\\HP\\OneDrive - Monash University\\ECE4179\\Final Project\\From Kaggle\\archive\\IDC_regular_ps50_idx5\\8916\\1\\8916_idx5_x951_y251_class1.png \n",
      "\n",
      "Check Flag: 0 \n",
      "\n"
     ]
    }
   ],
   "source": [
    "import os\n",
    "from pathlib import Path\n",
    "import numpy as np\n",
    "from PIL import Image\n",
    "from IPython.display import clear_output\n",
    "\n",
    "# Create a list in a range of 8863 - 9037 (inclusive) to get total of 10000 images \n",
    "# 5000 for cancerous and 5000 for non-cancerous\n",
    "start=8863\n",
    "end=9037\n",
    "index = [*range(start, end+1, 1)]\n",
    "branch=[0,1] \n",
    "\n",
    "X=np.array([])\n",
    "y=np.array([])\n",
    "\n",
    "limit = 10000\n",
    "class_size = limit/2 \n",
    "\n",
    "row=0 \n",
    "desired_image_size=50 \n",
    "flag_0=0 \n",
    "flag_1=0 \n",
    "check_flag=0 \n",
    "\n",
    "\n",
    "for i in range(len(index)): \n",
    "    for j in range(len(branch)): \n",
    "        if(check_flag==0): \n",
    "            path_data_dir = './'+str(index[i])+'./'+str(branch[j])\n",
    "            path_filenames = list(Path(path_data_dir).resolve().glob(\"*.png\")) \n",
    "        \n",
    "            for path_file in path_filenames:\n",
    "                    filename=str(path_file) \n",
    "                    label=np.array([int(filename[-5])]).reshape(1,1) \n",
    "            \n",
    "                    # Load image and resize image to 50*50 pixels\n",
    "                    image = Image.open(path_file).resize((desired_image_size,desired_image_size)) \n",
    "\n",
    "            \n",
    "                    # Convert image to array\n",
    "                    image_arr = (np.array(image)).reshape(1,-1) \n",
    "           \n",
    "                    if(row==0):\n",
    "                        X=image_arr \n",
    "                        y=label  \n",
    "                \n",
    "                    else:\n",
    "                        print(\"Number of Non-Cancerous Cells:\",len(y)-np.count_nonzero(y == 1)) \n",
    "                        print(\"Number of Cancerous Cells:\",np.count_nonzero(y == 1)) \n",
    "                        if(((len(y)-np.count_nonzero(y == 1))<class_size and label==0) or (np.count_nonzero(y == 1)<class_size and label==1)):\n",
    "                            X=np.append(X,image_arr,axis=0) \n",
    "                            y=np.append(y,label,axis=0)  \n",
    "                            #print(y.shape)\n",
    "                    \n",
    "                    clear_output(True) \n",
    "                    print(\"Path file:\",str(path_file),\"\\n\") \n",
    "                    print(\"Check Flag:\",check_flag,\"\\n\") \n",
    "                    row+=1 \n",
    "                \n",
    "    #If zero is enough\n",
    "    if(len(y)-np.count_nonzero(y == 1)==class_size): \n",
    "        branch=[1] \n",
    "        flag_0=1 \n",
    "                    \n",
    "    #If one is enough\n",
    "    if(np.count_nonzero(y == 1)==class_size):\n",
    "        branch=[0] \n",
    "        flag_1=1                    \n",
    "                \n",
    "    #If both enough\n",
    "    if(flag_0==1 and flag_1==1):\n",
    "        check_flag=1\n",
    "                "
   ]
  },
  {
   "cell_type": "code",
   "execution_count": 34,
   "metadata": {},
   "outputs": [
    {
     "name": "stdout",
     "output_type": "stream",
     "text": [
      "(10000, 7500)\n"
     ]
    }
   ],
   "source": [
    "print(X.shape)"
   ]
  },
  {
   "cell_type": "code",
   "execution_count": 35,
   "metadata": {},
   "outputs": [],
   "source": [
    "from numpy import savetxt\n",
    "# save to csv file\n",
    "savetxt('data.csv', X, delimiter=',')\n",
    "savetxt('label.csv',y,delimiter=',')\n"
   ]
  },
  {
   "cell_type": "code",
   "execution_count": 8,
   "metadata": {},
   "outputs": [],
   "source": [
    "import os\n",
    "from pathlib import Path\n",
    "import numpy as np\n",
    "from PIL import Image\n",
    "from IPython.display import clear_output\n",
    "\n",
    "import torch\n",
    "import torch.nn as nn\n",
    "import torch.nn.functional as F\n",
    "import torch.optim as optim\n",
    "import torchvision\n",
    "import torchvision.transforms as transforms\n",
    "import torchvision.datasets as datasets\n",
    "import torch.utils.data.dataloader as dataloader"
   ]
  },
  {
   "cell_type": "code",
   "execution_count": 14,
   "metadata": {},
   "outputs": [
    {
     "name": "stdout",
     "output_type": "stream",
     "text": [
      "[[162. 110. 158. ... 156.  84. 138.]\n",
      " [129.  70. 120. ... 101.  52. 108.]\n",
      " [216. 148. 179. ... 117.  82. 134.]\n",
      " ...\n",
      " [204. 113. 150. ... 168.  67. 112.]\n",
      " [203. 163. 188. ... 135.  73. 122.]\n",
      " [204. 116. 158. ... 147.  93. 143.]]\n"
     ]
    }
   ],
   "source": [
    "# load numpy array from csv file\n",
    "from numpy import loadtxt\n",
    "# load array\n",
    "data = loadtxt('data.csv', delimiter=',')\n",
    "# print the array\n",
    "print(data[0:10])"
   ]
  },
  {
   "cell_type": "code",
   "execution_count": 5,
   "metadata": {},
   "outputs": [
    {
     "name": "stdout",
     "output_type": "stream",
     "text": [
      "(50, 50, 3)\n"
     ]
    }
   ],
   "source": [
    "from pathlib import Path\n",
    "\n",
    "path_data_dir = './'+'8863'+'./'+'0'\n",
    "path_filenames = list(Path(path_data_dir).resolve().glob(\"*.png\"))\n",
    "first=0\n",
    "\n",
    "# Load image and resize image to 50*50 pixels\n",
    "for path_file in path_filenames:\n",
    "    if(first==0):\n",
    "        image = Image.open(path_file).resize((50,50))\n",
    "        # Convert image to array\n",
    "        image_arr = (np.array(image))\n",
    "        print(image_arr.shape)\n",
    "        first=1"
   ]
  },
  {
   "cell_type": "code",
   "execution_count": 21,
   "metadata": {},
   "outputs": [
    {
     "name": "stdout",
     "output_type": "stream",
     "text": [
      "[[[162 110 158]\n",
      "  [151 117 160]\n",
      "  [179  99 137]\n",
      "  ...\n",
      "  [182  86 127]\n",
      "  [166  81 125]\n",
      "  [190  99 138]]\n",
      "\n",
      " [[148 100 148]\n",
      "  [160  98 136]\n",
      "  [179 113 159]\n",
      "  ...\n",
      "  [133  60 108]\n",
      "  [186  94 134]\n",
      "  [162  82 127]]\n",
      "\n",
      " [[162 100 145]\n",
      "  [185  98 138]\n",
      "  [160  95 138]\n",
      "  ...\n",
      "  [127  65 115]\n",
      "  [181 102 141]\n",
      "  [145  69 117]]\n",
      "\n",
      " ...\n",
      "\n",
      " [[135  80 122]\n",
      "  [119  75 120]\n",
      "  [128  77 129]\n",
      "  ...\n",
      "  [124  72 125]\n",
      "  [141  78 129]\n",
      "  [157  94 144]]\n",
      "\n",
      " [[176  99 147]\n",
      "  [146  73 114]\n",
      "  [142  67 116]\n",
      "  ...\n",
      "  [128  78 129]\n",
      "  [167 139 180]\n",
      "  [155 108 156]]\n",
      "\n",
      " [[143  87 135]\n",
      "  [145  79 126]\n",
      "  [137  90 139]\n",
      "  ...\n",
      "  [140  87 139]\n",
      "  [148  87 139]\n",
      "  [156  84 138]]]\n",
      "uint8\n",
      "(50, 50, 3)\n"
     ]
    },
    {
     "data": {
      "image/png": "[encoded data removed]",
      "text/plain": [
       "<Figure size 432x288 with 1 Axes>"
      ]
     },
     "metadata": {
      "needs_background": "light"
     },
     "output_type": "display_data"
    }
   ],
   "source": [
    "from PIL import Image\n",
    "import numpy as np\n",
    "from matplotlib import pyplot as plt\n",
    "\n",
    "# Convert array to image\n",
    "img_array=np.array(data[0])\n",
    "#print(img_array.shape)\n",
    "y = np.expand_dims(img_array, axis=1)\n",
    "#print(y.shape)\n",
    "z = np.expand_dims(y, axis=1)\n",
    "#print(z.shape)\n",
    "img_array=z.reshape(50,50,3)\n",
    "img_array = img_array.astype(np.uint8)\n",
    "print(img_array)\n",
    "print(img_array.dtype)\n",
    "print(img_array.shape)\n",
    "\n",
    "\n",
    "#Display image\n",
    "plt.imshow(img_array)\n",
    "plt.show()"
   ]
  },
  {
   "cell_type": "code",
   "execution_count": 44,
   "metadata": {},
   "outputs": [
    {
     "name": "stdout",
     "output_type": "stream",
     "text": [
      "(10000, 7500)\n",
      "<class 'numpy.ndarray'>\n"
     ]
    }
   ],
   "source": [
    "print(data.shape)\n",
    "print(type(data))"
   ]
  },
  {
   "cell_type": "code",
   "execution_count": 19,
   "metadata": {},
   "outputs": [
    {
     "name": "stdout",
     "output_type": "stream",
     "text": [
      "tensor([[-0.8343, -0.6490,  0.6787,  1.0324],\n",
      "        [-1.4814,  0.8577,  0.8660,  0.4556],\n",
      "        [-1.6675, -1.7260, -0.9698,  0.3485],\n",
      "        [ 0.2852,  0.7744, -0.4732,  0.1731],\n",
      "        [ 0.2923, -2.1122,  0.3301, -0.8347]])\n"
     ]
    },
    {
     "data": {
      "text/plain": [
       "tensor([-0.6811, -0.5710,  0.0864,  0.2350])"
      ]
     },
     "execution_count": 19,
     "metadata": {},
     "output_type": "execute_result"
    }
   ],
   "source": [
    "a = torch.randn(5, 4)\n",
    "print(a)\n",
    "torch.mean(a, 0)"
   ]
  },
  {
   "cell_type": "code",
   "execution_count": 45,
   "metadata": {},
   "outputs": [],
   "source": [
    "#Prepare a composition of transforms\n",
    "#transforms.Compose will perform the transforms in order\n",
    "#NOTE: some transform only take in a PIL image, others only a Tensor\n",
    "#EG Resize and ToTensor take in a PIL Image, Normalize takes in a Tensor\n",
    "#Refer to documentation\n",
    "tensor_transform = transforms.Compose([\n",
    "            transforms.ToTensor()])\n",
    "\n",
    "#Note: ToTensor() will scale unit8 and similar type data to a float and re-scale to 0-1\n",
    "#Note: We are normalizing with the dataset mean and std "
   ]
  },
  {
   "cell_type": "code",
   "execution_count": 50,
   "metadata": {},
   "outputs": [
    {
     "name": "stdout",
     "output_type": "stream",
     "text": [
      "tensor([[[0.6353, 0.4314, 0.6196,  ..., 0.6118, 0.3294, 0.5412],\n",
      "         [0.5059, 0.2745, 0.4706,  ..., 0.3961, 0.2039, 0.4235],\n",
      "         [0.8471, 0.5804, 0.7020,  ..., 0.4588, 0.3216, 0.5255],\n",
      "         ...,\n",
      "         [0.5843, 0.4745, 0.6039,  ..., 0.7373, 0.4902, 0.6157],\n",
      "         [0.7686, 0.6157, 0.7373,  ..., 0.7373, 0.5686, 0.7098],\n",
      "         [0.6196, 0.4275, 0.6078,  ..., 0.5686, 0.3922, 0.5765]]])\n"
     ]
    }
   ],
   "source": [
    "data_tensor = transform(data.astype(np.uint8))\n",
    "print(demo_data)"
   ]
  },
  {
   "cell_type": "code",
   "execution_count": 51,
   "metadata": {},
   "outputs": [
    {
     "name": "stdout",
     "output_type": "stream",
     "text": [
      "Mean: tensor(0.6826) Standard deviation: tensor(0.1951)\n"
     ]
    }
   ],
   "source": [
    "data_mean = torch.mean(data_tensor)\n",
    "data_std = torch.std(data_tensor)\n",
    "print(\"Mean:\",data_mean, \"Standard deviation:\",data_std)"
   ]
  },
  {
   "cell_type": "code",
   "execution_count": 52,
   "metadata": {},
   "outputs": [],
   "source": [
    "#Prepare a composition of transforms\n",
    "#transforms.Compose will perform the transforms in order\n",
    "#NOTE: some transform only take in a PIL image, others only a Tensor\n",
    "#EG Resize and ToTensor take in a PIL Image, Normalize takes in a Tensor\n",
    "#Refer to documentation\n",
    "normalize = transforms.Compose([\n",
    "            transforms.Normalize([data_mean], [data_std])])\n",
    "\n",
    "#Note: ToTensor() will scale unit8 and similar type data to a float and re-scale to 0-1\n",
    "#Note: We are normalizing with the dataset mean and std "
   ]
  },
  {
   "cell_type": "code",
   "execution_count": 55,
   "metadata": {},
   "outputs": [
    {
     "name": "stdout",
     "output_type": "stream",
     "text": [
      "tensor([[[-0.2423, -1.2874, -0.3227,  ..., -0.3629, -1.8100, -0.7247],\n",
      "         [-0.9056, -2.0914, -1.0865,  ..., -1.4683, -2.4532, -1.3276],\n",
      "         [ 0.8431, -0.5237,  0.0994,  ..., -1.1468, -1.8502, -0.8051],\n",
      "         ...,\n",
      "         [-0.5036, -1.0664, -0.4031,  ...,  0.2803, -0.9860, -0.3428],\n",
      "         [ 0.4411, -0.3428,  0.2803,  ...,  0.2803, -0.5840,  0.1396],\n",
      "         [-0.3227, -1.3075, -0.3830,  ..., -0.5840, -1.4884, -0.5438]]])\n"
     ]
    }
   ],
   "source": [
    "train_data = normalize(data_tensor)\n",
    "print(train_data)"
   ]
  },
  {
   "cell_type": "code",
   "execution_count": 57,
   "metadata": {},
   "outputs": [
    {
     "name": "stderr",
     "output_type": "stream",
     "text": [
      "Clipping input data to the valid range for imshow with RGB data ([0..1] for floats or [0..255] for integers).\n"
     ]
    },
    {
     "data": {
      "image/png": "[encoded data removed]",
      "text/plain": [
       "<Figure size 432x288 with 1 Axes>"
      ]
     },
     "metadata": {
      "needs_background": "light"
     },
     "output_type": "display_data"
    }
   ],
   "source": [
    "plt.imshow(train_data[0][0].reshape(50,50,3))\n",
    "plt.show()"
   ]
  },
  {
   "cell_type": "code",
   "execution_count": null,
   "metadata": {},
   "outputs": [],
   "source": []
  }
 ],
 "metadata": {
  "kernelspec": {
   "display_name": "Python 3",
   "language": "python",
   "name": "python3"
  },
  "language_info": {
   "codemirror_mode": {
    "name": "ipython",
    "version": 3
   },
   "file_extension": ".py",
   "mimetype": "text/x-python",
   "name": "python",
   "nbconvert_exporter": "python",
   "pygments_lexer": "ipython3",
   "version": "3.8.5"
  }
 },
 "nbformat": 4,
 "nbformat_minor": 4
}
